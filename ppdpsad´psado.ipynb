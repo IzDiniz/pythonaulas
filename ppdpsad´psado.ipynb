{
 "cells": [
  {
   "cell_type": "code",
   "execution_count": 1,
   "metadata": {},
   "outputs": [
    {
     "name": "stdout",
     "output_type": "stream",
     "text": [
      "4541435992306144392\n"
     ]
    }
   ],
   "source": [
    "import secrets\n",
    "import string\n",
    "otp = ''\n",
    "digit = string.digits\n",
    "\n",
    "\n",
    "b = int (input ('Quantidade de caracteres que a senha deve ter: '))\n",
    "\n",
    "for i in range(b):\n",
    "    otp +=str(''.join(secrets.choice(digit)))\n",
    "print(otp)    "
   ]
  },
  {
   "cell_type": "code",
   "execution_count": null,
   "metadata": {},
   "outputs": [],
   "source": [
    "import secrets\n",
    "import string\n",
    "otp = ''\n",
    "digit = string.digits\n",
    "\n",
    "a = str(input('Quais digitos voce deseja em sua senha?'))\n",
    "b = int (input ('Quantidade de caracteres que a senha deve ter: '))\n",
    "\n",
    "for i in range(b):\n",
    "    otp +=str(''.join(secrets.choice(digit)))\n",
    "print(otp)    "
   ]
  },
  {
   "cell_type": "code",
   "execution_count": 8,
   "metadata": {},
   "outputs": [
    {
     "name": "stdout",
     "output_type": "stream",
     "text": [
      "13772282721233891239\n"
     ]
    }
   ],
   "source": [
    "import secrets\n",
    "\n",
    "print('Bem vindo ao seu aplicativo favorito para criação de senhas')\n",
    "\n",
    "otp = ''\n",
    "digits = str(input('Quais digitos voce deseja em sua senha?'))\n",
    "size = int(input('Qual o tamanho desejado para a sua senha?'))\n",
    "\n",
    "for i in range(size):\n",
    "    otp +=str(''.join(secrets.choice(digits)))\n",
    "\n",
    "print(otp)"
   ]
  },
  {
   "cell_type": "code",
   "execution_count": 3,
   "metadata": {},
   "outputs": [
    {
     "name": "stdout",
     "output_type": "stream",
     "text": [
      "['1', '2', '3', '4', '5', '6', '8', '9']\n"
     ]
    }
   ],
   "source": [
    "x = str(input('sada'))\n",
    "\n",
    "y = x.split()\n",
    "print(y)"
   ]
  }
 ],
 "metadata": {
  "kernelspec": {
   "display_name": "Python 3",
   "language": "python",
   "name": "python3"
  },
  "language_info": {
   "codemirror_mode": {
    "name": "ipython",
    "version": 3
   },
   "file_extension": ".py",
   "mimetype": "text/x-python",
   "name": "python",
   "nbconvert_exporter": "python",
   "pygments_lexer": "ipython3",
   "version": "3.11.4"
  },
  "orig_nbformat": 4
 },
 "nbformat": 4,
 "nbformat_minor": 2
}
