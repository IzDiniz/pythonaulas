{
 "cells": [
  {
   "cell_type": "code",
   "execution_count": 47,
   "metadata": {},
   "outputs": [
    {
     "ename": "TypeError",
     "evalue": "'str' object cannot be interpreted as an integer",
     "output_type": "error",
     "traceback": [
      "\u001b[1;31m---------------------------------------------------------------------------\u001b[0m",
      "\u001b[1;31mTypeError\u001b[0m                                 Traceback (most recent call last)",
      "Cell \u001b[1;32mIn[47], line 9\u001b[0m\n\u001b[0;32m      4\u001b[0m digit \u001b[39m=\u001b[39m string\u001b[39m.\u001b[39mdigits\n\u001b[0;32m      7\u001b[0m b \u001b[39m=\u001b[39m \u001b[39mstr\u001b[39m (\u001b[39minput\u001b[39m (\u001b[39m'\u001b[39m\u001b[39mQuantidade de caracteres que a senha deve ter: \u001b[39m\u001b[39m'\u001b[39m))\n\u001b[1;32m----> 9\u001b[0m \u001b[39mfor\u001b[39;00m i \u001b[39min\u001b[39;00m \u001b[39mrange\u001b[39;49m(b):\n\u001b[0;32m     10\u001b[0m     otp \u001b[39m+\u001b[39m\u001b[39m=\u001b[39m\u001b[39mstr\u001b[39m(\u001b[39m'\u001b[39m\u001b[39m'\u001b[39m\u001b[39m.\u001b[39mjoin(secrets\u001b[39m.\u001b[39mchoice(b)))\n\u001b[0;32m     11\u001b[0m \u001b[39mprint\u001b[39m(otp)    \n",
      "\u001b[1;31mTypeError\u001b[0m: 'str' object cannot be interpreted as an integer"
     ]
    }
   ],
   "source": [
    "import secrets\n",
    "import string\n",
    "otp = ''\n",
    "digit = string.digits\n",
    "\n",
    "\n",
    "b = float (input ('Quantidade de caracteres que a senha deve ter: '))\n",
    "\n",
    "for i in range(b):\n",
    "    otp +=str(''.join(secrets.choice(digit)))\n",
    "print(otp)    "
   ]
  },
  {
   "cell_type": "code",
   "execution_count": 8,
   "metadata": {},
   "outputs": [
    {
     "name": "stdout",
     "output_type": "stream",
     "text": [
      "992289500\n"
     ]
    }
   ],
   "source": [
    "import secrets\n",
    "import string\n",
    "otp = ''\n",
    "digit = string.digits\n",
    "\n",
    "b = int (input ('Quantidade de caracteres que a senha deve ter: '))\n",
    "\n",
    "for i in range(b):\n",
    "    otp +=str(''.join(secrets.choice(digit)))\n",
    "print(otp)    "
   ]
  },
  {
   "cell_type": "code",
   "execution_count": null,
   "metadata": {},
   "outputs": [],
   "source": [
    "import secrets\n",
    "\n",
    "print('Bem vindo ao seu aplicativo favorito para criação de senhas')\n",
    "\n",
    "z = string.ascii_lowercase\n",
    "otp = ''\n",
    "digits = str(input('Quais caracteres voce deseja em sua senha?'))\n",
    "size = int(input('Qual o tamanho desejado para a sua senha?'))\n",
    "selection = []\n",
    "for x in digits:\n",
    "    for y in selection:\n",
    "        while y in digits:\n",
    "            continue\n",
    "        else:\n",
    "            break\n",
    "\n",
    "\n",
    "for i in range(size):\n",
    "    otp +=str(''.join(secrets.choice(digits)))\n",
    "\n",
    "print(otp)"
   ]
  },
  {
   "cell_type": "code",
   "execution_count": 48,
   "metadata": {},
   "outputs": [
    {
     "name": "stdout",
     "output_type": "stream",
     "text": [
      "['1234567890']\n"
     ]
    }
   ],
   "source": [
    "x = str(input('sada'))\n",
    "\n",
    "y = x.split()\n",
    "print(y)"
   ]
  },
  {
   "cell_type": "code",
   "execution_count": 45,
   "metadata": {},
   "outputs": [
    {
     "name": "stdout",
     "output_type": "stream",
     "text": [
      "Bem vindo ao seu aplicativo favorito para criação de senhas\n",
      "x\n",
      "xx\n",
      "xxx\n",
      "xxxx\n",
      "xxxxx\n",
      "xxxxxx\n",
      "xxxxxxx\n"
     ]
    }
   ],
   "source": [
    "import secrets\n",
    "import string\n",
    "import pandas as pd\n",
    "print('Bem vindo ao seu aplicativo favorito para criação de senhas')\n",
    "\n",
    "otp = ''\n",
    "characters = str(input('Quais caracteres voce deseja em sua senha?'))\n",
    "selection = [(x, string.ascii_letters), (z, string.ascii_uppercase)]\n",
    "if characters == 'x':\n",
    "        contador = pd.value_counts(characters)\n",
    "            otp +=str(''.join(secrets.choice(characters)))\n",
    "            print(otp)\n",
    "else:\n",
    "      print('Erro')              \n",
    "\n"
   ]
  },
  {
   "cell_type": "code",
   "execution_count": 38,
   "metadata": {},
   "outputs": [
    {
     "name": "stdout",
     "output_type": "stream",
     "text": [
      "Bem vindo ao seu aplicativo favorito para criação de senhas\n",
      "x\n",
      "xx\n",
      "xxx\n",
      "xxxx\n",
      "xxxxx\n",
      "xxxxxx\n",
      "xxxxxxx\n",
      "xxxxxxxx\n",
      "xxxxxxxxx\n"
     ]
    }
   ],
   "source": [
    "import secrets\n",
    "import string\n",
    "print('Bem vindo ao seu aplicativo favorito para criação de senhas')\n",
    "\n",
    "otp = ''\n",
    "characters = str(input('Quais caracteres voce deseja em sua senha?'))\n",
    "size = int(input('Qual o tamanho desejado para a sua senha?'))\n",
    "selection = [(x, string.ascii_letters), (z, string.ascii_uppercase)]\n",
    "\n",
    "try:\n",
    "    if characters in selection:\n",
    "        for i in range(size):\n",
    "            otp +=str(''.join(secrets.choice(characters)))\n",
    "            print(otp)\n",
    "    else:\n",
    "         raise ValueError\n",
    "\n",
    "except ValueError:\n",
    "    print('Escolha inválida')\n",
    "\n"
   ]
  },
  {
   "cell_type": "code",
   "execution_count": 41,
   "metadata": {},
   "outputs": [
    {
     "name": "stdout",
     "output_type": "stream",
     "text": [
      "Bem vindo ao seu aplicativo favorito para criação de senhas\n",
      "Escolha inválida\n"
     ]
    }
   ],
   "source": [
    "import secrets\n",
    "import string\n",
    "print('Bem vindo ao seu aplicativo favorito para criação de senhas')\n",
    "\n",
    "otp = ''\n",
    "characters = str(input('Quais caracteres voce deseja em sua senha?'))\n",
    "size = int(input('Qual o tamanho desejado para a sua senha?'))\n",
    "selection = [(x, string.ascii_letters), (z, string.ascii_uppercase)]\n",
    "a = []\n",
    "if characters in selection:\n",
    "    for a in selection:\n",
    "             for i in range(size):\n",
    "                 otp +=str(''.join(secrets.choice(characters)))\n",
    "else:\n",
    "      print('Escolha inválida')\n"
   ]
  }
 ],
 "metadata": {
  "kernelspec": {
   "display_name": "Python 3",
   "language": "python",
   "name": "python3"
  },
  "language_info": {
   "codemirror_mode": {
    "name": "ipython",
    "version": 3
   },
   "file_extension": ".py",
   "mimetype": "text/x-python",
   "name": "python",
   "nbconvert_exporter": "python",
   "pygments_lexer": "ipython3",
   "version": "3.11.4"
  },
  "orig_nbformat": 4
 },
 "nbformat": 4,
 "nbformat_minor": 2
}
