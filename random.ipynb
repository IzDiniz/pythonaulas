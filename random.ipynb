{
 "cells": [
  {
   "cell_type": "code",
   "execution_count": 30,
   "metadata": {},
   "outputs": [],
   "source": [
    "import random\n",
    "from sympy import *"
   ]
  },
  {
   "cell_type": "code",
   "execution_count": 31,
   "metadata": {},
   "outputs": [
    {
     "name": "stdout",
     "output_type": "stream",
     "text": [
      "8 + 6 = 14\n",
      "Fracasso!\n"
     ]
    }
   ],
   "source": [
    "d20 = int(random.randint(1,20))\n",
    "DC = int(input(\"Qual o DC do check?\"))\n",
    "modificadores = int(input(\"Quais os modificadores do check?\"))\n",
    "print(d20, \"+\", modificadores, \"=\", d20 + modificadores)\n",
    "print(DC)\n",
    "if d20 + modificadores >= DC:\n",
    "    print(\"Sucesso!\")\n",
    "else:\n",
    "    print(\"Fracasso!\")    "
   ]
  },
  {
   "cell_type": "code",
   "execution_count": null,
   "metadata": {},
   "outputs": [],
   "source": []
  }
 ],
 "metadata": {
  "kernelspec": {
   "display_name": "Python 3",
   "language": "python",
   "name": "python3"
  },
  "language_info": {
   "codemirror_mode": {
    "name": "ipython",
    "version": 3
   },
   "file_extension": ".py",
   "mimetype": "text/x-python",
   "name": "python",
   "nbconvert_exporter": "python",
   "pygments_lexer": "ipython3",
   "version": "3.11.4"
  },
  "orig_nbformat": 4
 },
 "nbformat": 4,
 "nbformat_minor": 2
}
