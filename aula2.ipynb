{
 "cells": [
  {
   "cell_type": "code",
   "execution_count": 1,
   "metadata": {},
   "outputs": [],
   "source": [
    "from sympy import *\n"
   ]
  },
  {
   "cell_type": "code",
   "execution_count": 17,
   "metadata": {},
   "outputs": [
    {
     "data": {
      "text/plain": [
       "True"
      ]
     },
     "execution_count": 17,
     "metadata": {},
     "output_type": "execute_result"
    }
   ],
   "source": [
    "nota = 7\n",
    "media = 8\n",
    "\n",
    "nota != media"
   ]
  },
  {
   "cell_type": "code",
   "execution_count": 19,
   "metadata": {},
   "outputs": [
    {
     "name": "stdout",
     "output_type": "stream",
     "text": [
      "12.56\n"
     ]
    }
   ],
   "source": [
    "pi = 3.14\n",
    "r = float(input(\"valor de r\"))\n",
    "area = pi * r**2\n",
    "print(area)"
   ]
  },
  {
   "cell_type": "code",
   "execution_count": 28,
   "metadata": {},
   "outputs": [
    {
     "name": "stdout",
     "output_type": "stream",
     "text": [
      "A média das notas é: 7.0\n",
      "O aluno está aprovado\n"
     ]
    }
   ],
   "source": [
    "m1 = float(input(\"valor da matéria 1\"))\n",
    "m2 = float(input(\"valor da matéria 2\"))\n",
    "m3 = float(input(\"valor da matéria 3\"))\n",
    "\n",
    "soma = [m1, m2, m3]\n",
    "media = sum(soma) / 3\n",
    "\n",
    "print('A média das notas é:', media )\n",
    "\n",
    "if media >= 7:\n",
    "    print ('O aluno está aprovado'7)\n",
    "else:\n",
    "    print (\"Aluno reprovado\")\n",
    "\n",
    "    "
   ]
  },
  {
   "cell_type": "code",
   "execution_count": 58,
   "metadata": {},
   "outputs": [
    {
     "data": {
      "text/plain": [
       "'joao '"
      ]
     },
     "execution_count": 58,
     "metadata": {},
     "output_type": "execute_result"
    }
   ],
   "source": [
    "# pegando uma parte específica de uma string\n",
    "b = (\"joao e maria comem pao\")\n",
    "\n",
    "b[0:5]"
   ]
  },
  {
   "cell_type": "code",
   "execution_count": 50,
   "metadata": {},
   "outputs": [
    {
     "data": {
      "text/plain": [
       "'python é demais!'"
      ]
     },
     "execution_count": 50,
     "metadata": {},
     "output_type": "execute_result"
    }
   ],
   "source": [
    "# concatenação\n",
    "\n",
    "s = \"python \"\n",
    "t = \"é \"\n",
    "u = \"demais!\"\n",
    "\n",
    "s + t + u"
   ]
  },
  {
   "cell_type": "code",
   "execution_count": 57,
   "metadata": {},
   "outputs": [
    {
     "data": {
      "text/plain": [
       "'100.91'"
      ]
     },
     "execution_count": 57,
     "metadata": {},
     "output_type": "execute_result"
    }
   ],
   "source": [
    "# desprezando casas decimais\n",
    "\n",
    "\"%.2f\" % 100.9090909090"
   ]
  },
  {
   "cell_type": "code",
   "execution_count": 71,
   "metadata": {},
   "outputs": [
    {
     "data": {
      "text/plain": [
       "'João tem 20 e apenas R$500.50 no bolso'"
      ]
     },
     "execution_count": 71,
     "metadata": {},
     "output_type": "execute_result"
    }
   ],
   "source": [
    "#operações com strings\n",
    "\"%s tem %d e apenas R$%.2f no bolso\"%(\"João\", 20, 500.5)"
   ]
  },
  {
   "cell_type": "code",
   "execution_count": 68,
   "metadata": {},
   "outputs": [
    {
     "data": {
      "text/plain": [
       "'João tem 20 e apenas R$500.50 no bolso'"
      ]
     },
     "execution_count": 68,
     "metadata": {},
     "output_type": "execute_result"
    }
   ],
   "source": [
    "grana = 500.50000000000\n",
    "idade = 20\n",
    "nome = \"João\"\n",
    "\n",
    "\"%s tem %d e apenas R$%.2f no bolso\"%(nome, idade, grana)"
   ]
  },
  {
   "cell_type": "code",
   "execution_count": 69,
   "metadata": {},
   "outputs": [
    {
     "data": {
      "text/plain": [
       "'João tem 20 anos e R$500.5 no bolso.'"
      ]
     },
     "execution_count": 69,
     "metadata": {},
     "output_type": "execute_result"
    }
   ],
   "source": [
    "grana = 500.50\n",
    "idade = 20\n",
    "nome = \"João\"\n",
    "\"{} tem {} anos e R${} no bolso.\".format(nome, idade, grana)"
   ]
  },
  {
   "cell_type": "code",
   "execution_count": 70,
   "metadata": {},
   "outputs": [
    {
     "data": {
      "text/plain": [
       "'João tem 20 e R$500.5 no bolso.'"
      ]
     },
     "execution_count": 70,
     "metadata": {},
     "output_type": "execute_result"
    }
   ],
   "source": [
    "grana = 500.50\n",
    "idade = 20\n",
    "nome = \"João\"\n",
    "f\"{nome} tem {idade} e R${grana} no bolso.\" "
   ]
  },
  {
   "cell_type": "code",
   "execution_count": 78,
   "metadata": {},
   "outputs": [
    {
     "name": "stdout",
     "output_type": "stream",
     "text": [
      "O valor da dívida é de 10.0 reais\n"
     ]
    }
   ],
   "source": [
    "#sequência e tempo em variáveis\n",
    "\n",
    "d = 0\n",
    "\n",
    "d = d + float(input(\"Qual o valor da primeira compra?\"))\n",
    "d = d + float(input(\"Qual o valor da segunda compra?\"))\n",
    "d = d + float(input(\"Qual o valor da terceira compra?\"))\n",
    "d = d + float(input(\"Qual o valor da última compra?\"))\n",
    "print(\"O valor da dívida é de\", d, \"reais\")"
   ]
  },
  {
   "cell_type": "code",
   "execution_count": 79,
   "metadata": {},
   "outputs": [
    {
     "name": "stdout",
     "output_type": "stream",
     "text": [
      "50.0\n"
     ]
    }
   ],
   "source": [
    "d = 0\n",
    "\n",
    "d = d + float(input(\"Qual o valor da primeira compra?\"))\n",
    "p = float(input(\"Qual o valor pago?\"))\n",
    "\n",
    "d = d - p\n",
    "\n",
    "print(d)"
   ]
  },
  {
   "cell_type": "code",
   "execution_count": 85,
   "metadata": {},
   "outputs": [
    {
     "name": "stdout",
     "output_type": "stream",
     "text": [
      "Você digitou dagalera\n",
      "Olá dagalera\n"
     ]
    }
   ],
   "source": [
    "# retomando valores inputados\n",
    "\n",
    "nome = input(\"Qual o seu nome?\")\n",
    "print(f\"Você digitou {nome}\")\n",
    "print(f\"Olá {nome}\")"
   ]
  },
  {
   "cell_type": "code",
   "execution_count": 86,
   "metadata": {},
   "outputs": [
    {
     "name": "stdout",
     "output_type": "stream",
     "text": [
      "O valor do bonus será: 18000.0\n"
     ]
    }
   ],
   "source": [
    "anos = int(input(\"Anos de trabalho\"))\n",
    "valor_por_ano = float(input(\"Valor por ano\"))\n",
    "bonus = anos * valor_por_ano \n",
    "\n",
    "print(f\"O valor do bonus será: {bonus}\")"
   ]
  },
  {
   "cell_type": "code",
   "execution_count": 89,
   "metadata": {},
   "outputs": [
    {
     "name": "stdout",
     "output_type": "stream",
     "text": [
      "o valor do bonus será: 2400.0\n"
     ]
    }
   ],
   "source": [
    "anos = int(input(\"Anos de trabalho\"))\n",
    "valor_por_ano = float(input(\"Valor por ano\"))\n",
    "\n",
    "print(f\"o valor do bonus será: {anos * valor_por_ano}\")"
   ]
  }
 ],
 "metadata": {
  "kernelspec": {
   "display_name": "Python 3",
   "language": "python",
   "name": "python3"
  },
  "language_info": {
   "codemirror_mode": {
    "name": "ipython",
    "version": 3
   },
   "file_extension": ".py",
   "mimetype": "text/x-python",
   "name": "python",
   "nbconvert_exporter": "python",
   "pygments_lexer": "ipython3",
   "version": "3.11.4"
  },
  "orig_nbformat": 4
 },
 "nbformat": 4,
 "nbformat_minor": 2
}
