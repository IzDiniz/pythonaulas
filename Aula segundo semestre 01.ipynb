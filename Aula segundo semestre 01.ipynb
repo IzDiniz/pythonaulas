{
 "cells": [
  {
   "cell_type": "code",
   "execution_count": 5,
   "metadata": {},
   "outputs": [
    {
     "name": "stdout",
     "output_type": "stream",
     "text": [
      "200.0\n"
     ]
    }
   ],
   "source": [
    "T = float(input(\"Insira o valor da Tenção: \"))\n",
    "C = float(input(\"Insira o valor da Corrente: \"))\n",
    "\n",
    "P = T * C \n",
    "print(P) "
   ]
  },
  {
   "cell_type": "code",
   "execution_count": 6,
   "metadata": {},
   "outputs": [
    {
     "name": "stdout",
     "output_type": "stream",
     "text": [
      "O valor da potencia será: 200.0\n"
     ]
    }
   ],
   "source": [
    "def calcular_potencia(tensao, corrente):\n",
    "    potencia = tensao * corrente\n",
    "    return potencia\n",
    "\n",
    "tensao = float(input(\"Insira o valor da tensao: \"))\n",
    "corrente = float(input(\"Insira o valor da corrente: \"))\n",
    "\n",
    "resultado = calcular_potencia(tensao, corrente)\n",
    "\n",
    "print (f\"O valor da potencia será: {resultado}\")\n"
   ]
  },
  {
   "cell_type": "code",
   "execution_count": 10,
   "metadata": {},
   "outputs": [
    {
     "name": "stdout",
     "output_type": "stream",
     "text": [
      "1\n",
      "2\n",
      "3\n",
      "4\n",
      "5\n",
      "\n",
      "2\n",
      "3\n",
      "4\n"
     ]
    }
   ],
   "source": [
    "numeros = [1, 2, 3, 4, 5]\n",
    "\n",
    "for numero in numeros:\n",
    "    print(numero)\n",
    "\n",
    "print(\"\")\n",
    "\n",
    "x = 1\n",
    "while x<=3:\n",
    "    x= x + 1\n",
    "    print(x)"
   ]
  },
  {
   "cell_type": "code",
   "execution_count": 11,
   "metadata": {},
   "outputs": [
    {
     "name": "stdout",
     "output_type": "stream",
     "text": [
      "Firts King\n",
      "Firts Queen\n",
      "Second King\n",
      "Second Queen\n"
     ]
    }
   ],
   "source": [
    "ordem = [\"Firts\", \"Second\"]\n",
    "titulo = [\"King\", \"Queen\"]\n",
    "for x in ordem:\n",
    "    for y in titulo:\n",
    "        print (x, y)"
   ]
  },
  {
   "cell_type": "code",
   "execution_count": 14,
   "metadata": {},
   "outputs": [
    {
     "name": "stdout",
     "output_type": "stream",
     "text": [
      "Collecting pandas\n",
      "  Downloading pandas-2.2.0-cp311-cp311-win_amd64.whl (11.6 MB)\n",
      "                                              0.0/11.6 MB ? eta -:--:--\n",
      "     -                                        0.4/11.6 MB 11.2 MB/s eta 0:00:01\n",
      "     ---                                      0.9/11.6 MB 11.7 MB/s eta 0:00:01\n",
      "     -----                                    1.5/11.6 MB 11.8 MB/s eta 0:00:01\n",
      "     -----                                    1.6/11.6 MB 11.6 MB/s eta 0:00:01\n",
      "     -----                                    1.6/11.6 MB 11.6 MB/s eta 0:00:01\n",
      "     -----                                    1.6/11.6 MB 11.6 MB/s eta 0:00:01\n",
      "     -----                                    1.6/11.6 MB 11.6 MB/s eta 0:00:01\n",
      "     -----                                    1.6/11.6 MB 11.6 MB/s eta 0:00:01\n",
      "     ------                                   1.9/11.6 MB 4.5 MB/s eta 0:00:03\n",
      "     --------                                 2.4/11.6 MB 5.2 MB/s eta 0:00:02\n",
      "     ----------                               3.0/11.6 MB 5.8 MB/s eta 0:00:02\n",
      "     ------------                             3.5/11.6 MB 6.4 MB/s eta 0:00:02\n",
      "     ------------                             3.5/11.6 MB 6.4 MB/s eta 0:00:02\n",
      "     ------------                             3.5/11.6 MB 6.4 MB/s eta 0:00:02\n",
      "     ------------                             3.5/11.6 MB 6.4 MB/s eta 0:00:02\n",
      "     ------------                             3.5/11.6 MB 6.4 MB/s eta 0:00:02\n",
      "     ------------                             3.5/11.6 MB 6.4 MB/s eta 0:00:02\n",
      "     ------------                             3.5/11.6 MB 6.4 MB/s eta 0:00:02\n",
      "     ------------                             3.5/11.6 MB 6.4 MB/s eta 0:00:02\n",
      "     ------------                             3.5/11.6 MB 6.4 MB/s eta 0:00:02\n",
      "     ------------                             3.5/11.6 MB 6.4 MB/s eta 0:00:02\n",
      "     ------------                             3.5/11.6 MB 6.4 MB/s eta 0:00:02\n",
      "     ------------                             3.5/11.6 MB 6.4 MB/s eta 0:00:02\n",
      "     ------------                             3.5/11.6 MB 6.4 MB/s eta 0:00:02\n",
      "     ------------                             3.5/11.6 MB 6.4 MB/s eta 0:00:02\n",
      "     ------------                             3.5/11.6 MB 6.4 MB/s eta 0:00:02\n",
      "     -------------                            4.0/11.6 MB 3.2 MB/s eta 0:00:03\n",
      "     ---------------                          4.6/11.6 MB 3.5 MB/s eta 0:00:02\n",
      "     -----------------                        5.1/11.6 MB 3.8 MB/s eta 0:00:02\n",
      "     ------------------                       5.3/11.6 MB 3.8 MB/s eta 0:00:02\n",
      "     ------------------                       5.3/11.6 MB 3.8 MB/s eta 0:00:02\n",
      "     ------------------                       5.3/11.6 MB 3.8 MB/s eta 0:00:02\n",
      "     ------------------                       5.3/11.6 MB 3.8 MB/s eta 0:00:02\n",
      "     ------------------                       5.3/11.6 MB 3.8 MB/s eta 0:00:02\n",
      "     ------------------                       5.3/11.6 MB 3.8 MB/s eta 0:00:02\n",
      "     ------------------                       5.3/11.6 MB 3.8 MB/s eta 0:00:02\n",
      "     ------------------                       5.3/11.6 MB 3.8 MB/s eta 0:00:02\n",
      "     ------------------                       5.3/11.6 MB 3.8 MB/s eta 0:00:02\n",
      "     ------------------                       5.3/11.6 MB 3.8 MB/s eta 0:00:02\n",
      "     ------------------                       5.3/11.6 MB 3.8 MB/s eta 0:00:02\n",
      "     ------------------                       5.3/11.6 MB 3.8 MB/s eta 0:00:02\n",
      "     ------------------                       5.3/11.6 MB 3.8 MB/s eta 0:00:02\n",
      "     ------------------                       5.3/11.6 MB 3.8 MB/s eta 0:00:02\n",
      "     --------------------                     5.9/11.6 MB 2.8 MB/s eta 0:00:03\n",
      "     ---------------------                    6.3/11.6 MB 3.0 MB/s eta 0:00:02\n",
      "     -----------------------                  6.8/11.6 MB 3.1 MB/s eta 0:00:02\n",
      "     ------------------------                 7.2/11.6 MB 3.3 MB/s eta 0:00:02\n",
      "     ------------------------                 7.2/11.6 MB 3.3 MB/s eta 0:00:02\n",
      "     ------------------------                 7.2/11.6 MB 3.3 MB/s eta 0:00:02\n",
      "     ------------------------                 7.2/11.6 MB 3.3 MB/s eta 0:00:02\n",
      "     ------------------------                 7.2/11.6 MB 3.3 MB/s eta 0:00:02\n",
      "     ------------------------                 7.2/11.6 MB 3.3 MB/s eta 0:00:02\n",
      "     ------------------------                 7.2/11.6 MB 3.3 MB/s eta 0:00:02\n",
      "     ------------------------                 7.2/11.6 MB 3.3 MB/s eta 0:00:02\n",
      "     ------------------------                 7.2/11.6 MB 3.3 MB/s eta 0:00:02\n",
      "     ------------------------                 7.2/11.6 MB 3.3 MB/s eta 0:00:02\n",
      "     ------------------------                 7.2/11.6 MB 3.3 MB/s eta 0:00:02\n",
      "     ------------------------                 7.2/11.6 MB 3.3 MB/s eta 0:00:02\n",
      "     ------------------------                 7.2/11.6 MB 3.3 MB/s eta 0:00:02\n",
      "     ------------------------                 7.2/11.6 MB 3.3 MB/s eta 0:00:02\n",
      "     -------------------------                7.4/11.6 MB 2.6 MB/s eta 0:00:02\n",
      "     ---------------------------              7.9/11.6 MB 2.7 MB/s eta 0:00:02\n",
      "     ----------------------------             8.3/11.6 MB 2.8 MB/s eta 0:00:02\n",
      "     ------------------------------           8.8/11.6 MB 2.9 MB/s eta 0:00:01\n",
      "     -------------------------------          9.1/11.6 MB 3.0 MB/s eta 0:00:01\n",
      "     -------------------------------          9.1/11.6 MB 3.0 MB/s eta 0:00:01\n",
      "     -------------------------------          9.1/11.6 MB 3.0 MB/s eta 0:00:01\n",
      "     -------------------------------          9.1/11.6 MB 3.0 MB/s eta 0:00:01\n",
      "     -------------------------------          9.1/11.6 MB 3.0 MB/s eta 0:00:01\n",
      "     -------------------------------          9.1/11.6 MB 3.0 MB/s eta 0:00:01\n",
      "     -------------------------------          9.1/11.6 MB 3.0 MB/s eta 0:00:01\n",
      "     -------------------------------          9.1/11.6 MB 3.0 MB/s eta 0:00:01\n",
      "     -------------------------------          9.1/11.6 MB 3.0 MB/s eta 0:00:01\n",
      "     -------------------------------          9.1/11.6 MB 3.0 MB/s eta 0:00:01\n",
      "     -------------------------------          9.1/11.6 MB 3.0 MB/s eta 0:00:01\n",
      "     -------------------------------          9.1/11.6 MB 3.0 MB/s eta 0:00:01\n",
      "     -------------------------------          9.1/11.6 MB 3.0 MB/s eta 0:00:01\n",
      "     -------------------------------          9.1/11.6 MB 3.0 MB/s eta 0:00:01\n",
      "     --------------------------------         9.4/11.6 MB 2.5 MB/s eta 0:00:01\n",
      "     ----------------------------------       9.9/11.6 MB 2.6 MB/s eta 0:00:01\n",
      "     -----------------------------------      10.3/11.6 MB 2.7 MB/s eta 0:00:01\n",
      "     ------------------------------------     10.7/11.6 MB 2.7 MB/s eta 0:00:01\n",
      "     -------------------------------------    10.9/11.6 MB 2.7 MB/s eta 0:00:01\n",
      "     -------------------------------------    10.9/11.6 MB 2.7 MB/s eta 0:00:01\n",
      "     -------------------------------------    10.9/11.6 MB 2.7 MB/s eta 0:00:01\n",
      "     -------------------------------------    10.9/11.6 MB 2.7 MB/s eta 0:00:01\n",
      "     -------------------------------------    10.9/11.6 MB 2.7 MB/s eta 0:00:01\n",
      "     -------------------------------------    11.0/11.6 MB 2.5 MB/s eta 0:00:01\n",
      "     ---------------------------------------  11.4/11.6 MB 2.5 MB/s eta 0:00:01\n",
      "     ---------------------------------------  11.6/11.6 MB 2.5 MB/s eta 0:00:01\n",
      "     ---------------------------------------  11.6/11.6 MB 2.5 MB/s eta 0:00:01\n",
      "     ---------------------------------------  11.6/11.6 MB 2.5 MB/s eta 0:00:01\n",
      "     ---------------------------------------  11.6/11.6 MB 2.5 MB/s eta 0:00:01\n",
      "     ---------------------------------------  11.6/11.6 MB 2.5 MB/s eta 0:00:01\n",
      "     ---------------------------------------- 11.6/11.6 MB 2.4 MB/s eta 0:00:00\n",
      "Collecting numpy<2,>=1.23.2 (from pandas)\n",
      "  Downloading numpy-1.26.3-cp311-cp311-win_amd64.whl (15.8 MB)\n",
      "                                              0.0/15.8 MB ? eta -:--:--\n",
      "                                              0.3/15.8 MB 9.9 MB/s eta 0:00:02\n",
      "     -                                        0.7/15.8 MB 8.5 MB/s eta 0:00:02\n",
      "     --                                       1.1/15.8 MB 8.4 MB/s eta 0:00:02\n",
      "     ---                                      1.4/15.8 MB 8.3 MB/s eta 0:00:02\n",
      "     ----                                     1.6/15.8 MB 7.4 MB/s eta 0:00:02\n",
      "     -----                                    2.2/15.8 MB 8.1 MB/s eta 0:00:02\n",
      "     ------                                   2.6/15.8 MB 8.3 MB/s eta 0:00:02\n",
      "     -------                                  3.0/15.8 MB 8.4 MB/s eta 0:00:02\n",
      "     --------                                 3.4/15.8 MB 8.4 MB/s eta 0:00:02\n",
      "     --------                                 3.4/15.8 MB 8.4 MB/s eta 0:00:02\n",
      "     --------                                 3.4/15.8 MB 8.4 MB/s eta 0:00:02\n",
      "     --------                                 3.4/15.8 MB 8.4 MB/s eta 0:00:02\n",
      "     --------                                 3.4/15.8 MB 8.4 MB/s eta 0:00:02\n",
      "     --------                                 3.4/15.8 MB 8.4 MB/s eta 0:00:02\n",
      "     --------                                 3.4/15.8 MB 8.4 MB/s eta 0:00:02\n",
      "     --------                                 3.4/15.8 MB 8.4 MB/s eta 0:00:02\n",
      "     --------                                 3.4/15.8 MB 8.4 MB/s eta 0:00:02\n",
      "     --------                                 3.4/15.8 MB 8.4 MB/s eta 0:00:02\n",
      "     --------                                 3.4/15.8 MB 8.4 MB/s eta 0:00:02\n",
      "     --------                                 3.4/15.8 MB 8.4 MB/s eta 0:00:02\n",
      "     --------                                 3.4/15.8 MB 8.4 MB/s eta 0:00:02\n",
      "     --------                                 3.4/15.8 MB 8.4 MB/s eta 0:00:02\n",
      "     --------                                 3.5/15.8 MB 3.2 MB/s eta 0:00:04\n",
      "     ---------                                3.8/15.8 MB 3.3 MB/s eta 0:00:04\n",
      "     ----------                               4.1/15.8 MB 3.5 MB/s eta 0:00:04\n",
      "     ------------                             4.8/15.8 MB 3.9 MB/s eta 0:00:03\n",
      "     -------------                            5.3/15.8 MB 4.1 MB/s eta 0:00:03\n",
      "     -------------                            5.3/15.8 MB 4.1 MB/s eta 0:00:03\n",
      "     -------------                            5.3/15.8 MB 4.1 MB/s eta 0:00:03\n",
      "     -------------                            5.3/15.8 MB 4.1 MB/s eta 0:00:03\n",
      "     -------------                            5.3/15.8 MB 4.1 MB/s eta 0:00:03\n",
      "     -------------                            5.3/15.8 MB 4.1 MB/s eta 0:00:03\n",
      "     -------------                            5.3/15.8 MB 4.1 MB/s eta 0:00:03\n",
      "     -------------                            5.3/15.8 MB 4.1 MB/s eta 0:00:03\n",
      "     -------------                            5.3/15.8 MB 4.1 MB/s eta 0:00:03\n",
      "     -------------                            5.3/15.8 MB 4.1 MB/s eta 0:00:03\n",
      "     -------------                            5.3/15.8 MB 4.1 MB/s eta 0:00:03\n",
      "     -------------                            5.3/15.8 MB 4.1 MB/s eta 0:00:03\n",
      "     -------------                            5.3/15.8 MB 4.1 MB/s eta 0:00:03\n",
      "     -------------                            5.3/15.8 MB 4.1 MB/s eta 0:00:03\n",
      "     -------------                            5.4/15.8 MB 2.8 MB/s eta 0:00:04\n",
      "     --------------                           5.8/15.8 MB 2.9 MB/s eta 0:00:04\n",
      "     ---------------                          6.3/15.8 MB 3.1 MB/s eta 0:00:04\n",
      "     ----------------                         6.7/15.8 MB 3.2 MB/s eta 0:00:03\n",
      "     ------------------                       7.1/15.8 MB 3.3 MB/s eta 0:00:03\n",
      "     ------------------                       7.1/15.8 MB 3.3 MB/s eta 0:00:03\n",
      "     ------------------                       7.1/15.8 MB 3.3 MB/s eta 0:00:03\n",
      "     ------------------                       7.1/15.8 MB 3.3 MB/s eta 0:00:03\n",
      "     ------------------                       7.1/15.8 MB 3.3 MB/s eta 0:00:03\n",
      "     ------------------                       7.1/15.8 MB 3.3 MB/s eta 0:00:03\n",
      "     ------------------                       7.1/15.8 MB 3.3 MB/s eta 0:00:03\n",
      "     ------------------                       7.1/15.8 MB 3.3 MB/s eta 0:00:03\n",
      "     ------------------                       7.1/15.8 MB 3.3 MB/s eta 0:00:03\n",
      "     ------------------                       7.1/15.8 MB 3.3 MB/s eta 0:00:03\n",
      "     ------------------                       7.1/15.8 MB 3.3 MB/s eta 0:00:03\n",
      "     ------------------                       7.1/15.8 MB 3.3 MB/s eta 0:00:03\n",
      "     ------------------                       7.1/15.8 MB 3.3 MB/s eta 0:00:03\n",
      "     ------------------                       7.1/15.8 MB 3.3 MB/s eta 0:00:03\n",
      "     ------------------                       7.4/15.8 MB 2.6 MB/s eta 0:00:04\n",
      "     -------------------                      7.8/15.8 MB 2.7 MB/s eta 0:00:03\n",
      "     --------------------                     8.2/15.8 MB 2.8 MB/s eta 0:00:03\n",
      "     ---------------------                    8.6/15.8 MB 2.9 MB/s eta 0:00:03\n",
      "     ----------------------                   9.0/15.8 MB 3.0 MB/s eta 0:00:03\n",
      "     ----------------------                   9.0/15.8 MB 3.0 MB/s eta 0:00:03\n",
      "     ----------------------                   9.0/15.8 MB 3.0 MB/s eta 0:00:03\n",
      "     ----------------------                   9.0/15.8 MB 3.0 MB/s eta 0:00:03\n",
      "     ----------------------                   9.0/15.8 MB 3.0 MB/s eta 0:00:03\n",
      "     ----------------------                   9.0/15.8 MB 3.0 MB/s eta 0:00:03\n",
      "     ----------------------                   9.0/15.8 MB 3.0 MB/s eta 0:00:03\n",
      "     ----------------------                   9.0/15.8 MB 3.0 MB/s eta 0:00:03\n",
      "     ----------------------                   9.0/15.8 MB 3.0 MB/s eta 0:00:03\n",
      "     ----------------------                   9.0/15.8 MB 3.0 MB/s eta 0:00:03\n",
      "     ----------------------                   9.0/15.8 MB 3.0 MB/s eta 0:00:03\n",
      "     ----------------------                   9.0/15.8 MB 3.0 MB/s eta 0:00:03\n",
      "     ----------------------                   9.0/15.8 MB 3.0 MB/s eta 0:00:03\n",
      "     ----------------------                   9.0/15.8 MB 3.0 MB/s eta 0:00:03\n",
      "     -----------------------                  9.2/15.8 MB 2.5 MB/s eta 0:00:03\n",
      "     ------------------------                 9.6/15.8 MB 2.6 MB/s eta 0:00:03\n",
      "     -------------------------                10.0/15.8 MB 2.7 MB/s eta 0:00:03\n",
      "     --------------------------               10.4/15.8 MB 2.7 MB/s eta 0:00:03\n",
      "     ---------------------------              10.8/15.8 MB 2.7 MB/s eta 0:00:02\n",
      "     ---------------------------              10.8/15.8 MB 2.7 MB/s eta 0:00:02\n",
      "     ---------------------------              10.8/15.8 MB 2.7 MB/s eta 0:00:02\n",
      "     ---------------------------              10.8/15.8 MB 2.7 MB/s eta 0:00:02\n",
      "     ---------------------------              10.8/15.8 MB 2.7 MB/s eta 0:00:02\n",
      "     ---------------------------              10.8/15.8 MB 2.7 MB/s eta 0:00:02\n",
      "     ---------------------------              10.8/15.8 MB 2.7 MB/s eta 0:00:02\n",
      "     ---------------------------              10.8/15.8 MB 2.7 MB/s eta 0:00:02\n",
      "     ---------------------------              10.8/15.8 MB 2.7 MB/s eta 0:00:02\n",
      "     ---------------------------              10.8/15.8 MB 2.7 MB/s eta 0:00:02\n",
      "     ---------------------------              10.8/15.8 MB 2.7 MB/s eta 0:00:02\n",
      "     ---------------------------              10.8/15.8 MB 2.7 MB/s eta 0:00:02\n",
      "     ---------------------------              10.8/15.8 MB 2.7 MB/s eta 0:00:02\n",
      "     ---------------------------              10.8/15.8 MB 2.7 MB/s eta 0:00:02\n",
      "     ---------------------------              10.9/15.8 MB 2.3 MB/s eta 0:00:03\n",
      "     ----------------------------             11.3/15.8 MB 2.3 MB/s eta 0:00:02\n",
      "     -----------------------------            11.6/15.8 MB 2.3 MB/s eta 0:00:02\n",
      "     ------------------------------           12.1/15.8 MB 2.3 MB/s eta 0:00:02\n",
      "     -------------------------------          12.5/15.8 MB 2.3 MB/s eta 0:00:02\n",
      "     --------------------------------         12.7/15.8 MB 2.3 MB/s eta 0:00:02\n",
      "     --------------------------------         12.7/15.8 MB 2.3 MB/s eta 0:00:02\n",
      "     --------------------------------         12.7/15.8 MB 2.3 MB/s eta 0:00:02\n",
      "     --------------------------------         12.7/15.8 MB 2.3 MB/s eta 0:00:02\n",
      "     --------------------------------         12.7/15.8 MB 2.3 MB/s eta 0:00:02\n",
      "     --------------------------------         12.7/15.8 MB 2.3 MB/s eta 0:00:02\n",
      "     --------------------------------         12.7/15.8 MB 2.3 MB/s eta 0:00:02\n",
      "     --------------------------------         12.7/15.8 MB 2.3 MB/s eta 0:00:02\n",
      "     --------------------------------         12.7/15.8 MB 2.3 MB/s eta 0:00:02\n",
      "     --------------------------------         12.7/15.8 MB 2.3 MB/s eta 0:00:02\n",
      "     --------------------------------         12.7/15.8 MB 2.3 MB/s eta 0:00:02\n",
      "     --------------------------------         12.7/15.8 MB 2.3 MB/s eta 0:00:02\n",
      "     --------------------------------         12.7/15.8 MB 2.3 MB/s eta 0:00:02\n",
      "     --------------------------------         12.7/15.8 MB 2.3 MB/s eta 0:00:02\n",
      "     --------------------------------         13.0/15.8 MB 2.0 MB/s eta 0:00:02\n",
      "     ---------------------------------        13.4/15.8 MB 2.0 MB/s eta 0:00:02\n",
      "     ----------------------------------       13.8/15.8 MB 2.3 MB/s eta 0:00:01\n",
      "     ------------------------------------     14.3/15.8 MB 2.3 MB/s eta 0:00:01\n",
      "     ------------------------------------     14.6/15.8 MB 2.3 MB/s eta 0:00:01\n",
      "     ------------------------------------     14.6/15.8 MB 2.3 MB/s eta 0:00:01\n",
      "     ------------------------------------     14.6/15.8 MB 2.3 MB/s eta 0:00:01\n",
      "     ------------------------------------     14.6/15.8 MB 2.3 MB/s eta 0:00:01\n",
      "     ------------------------------------     14.6/15.8 MB 2.3 MB/s eta 0:00:01\n",
      "     -------------------------------------    14.8/15.8 MB 2.2 MB/s eta 0:00:01\n",
      "     --------------------------------------   15.4/15.8 MB 2.2 MB/s eta 0:00:01\n",
      "     ---------------------------------------  15.8/15.8 MB 2.6 MB/s eta 0:00:01\n",
      "     ---------------------------------------  15.8/15.8 MB 2.6 MB/s eta 0:00:01\n",
      "     ---------------------------------------  15.8/15.8 MB 2.6 MB/s eta 0:00:01\n",
      "     ---------------------------------------- 15.8/15.8 MB 2.5 MB/s eta 0:00:00\n",
      "Requirement already satisfied: python-dateutil>=2.8.2 in c:\\python311\\lib\\site-packages (from pandas) (2.8.2)\n",
      "Collecting pytz>=2020.1 (from pandas)\n",
      "  Downloading pytz-2024.1-py2.py3-none-any.whl (505 kB)\n",
      "                                              0.0/505.5 kB ? eta -:--:--\n",
      "     --------------------------            368.6/505.5 kB 11.6 MB/s eta 0:00:01\n",
      "     -------------------------------------- 505.5/505.5 kB 7.9 MB/s eta 0:00:00\n",
      "Collecting tzdata>=2022.7 (from pandas)\n",
      "  Downloading tzdata-2023.4-py2.py3-none-any.whl (346 kB)\n",
      "                                              0.0/346.6 kB ? eta -:--:--\n",
      "     -------------------------------------- 346.6/346.6 kB 7.3 MB/s eta 0:00:00\n",
      "Requirement already satisfied: six>=1.5 in c:\\python311\\lib\\site-packages (from python-dateutil>=2.8.2->pandas) (1.16.0)\n",
      "Installing collected packages: pytz, tzdata, numpy, pandas\n",
      "Successfully installed numpy-1.26.3 pandas-2.2.0 pytz-2024.1 tzdata-2023.4\n",
      "Note: you may need to restart the kernel to use updated packages.\n"
     ]
    },
    {
     "name": "stderr",
     "output_type": "stream",
     "text": [
      "\n",
      "[notice] A new release of pip is available: 23.1.2 -> 24.0\n",
      "[notice] To update, run: python.exe -m pip install --upgrade pip\n"
     ]
    }
   ],
   "source": [
    "pip install pandas \n"
   ]
  },
  {
   "cell_type": "code",
   "execution_count": 16,
   "metadata": {},
   "outputs": [],
   "source": [
    "import pandas as pd\n"
   ]
  },
  {
   "cell_type": "code",
   "execution_count": 33,
   "metadata": {},
   "outputs": [],
   "source": [
    "\n",
    "#dados\n",
    "dados = {\n",
    "    'tipo de Carro': ['Sedan', 'SUV', 'Hatchback', 'Caminhonete', 'Coupé'],\n",
    "    'Tipos de Direção':['Hidraulica', 'Elétrica', 'Mecânica', 'Eletrica', 'Hidraulica'],\n",
    "    'Tipos de Pneus': ['Radial', 'Diagonal',  'Radial', 'Diagonal', 'Radial'],\n",
    "    'Faixa de Preço': ['Alto', 'Médio', 'Baixo', 'Alto', 'Médio'],\n",
    "    'Potência - CV': [120, 130, 100, 180, 200],\n",
    "    'Velocidade De Cruzeiro': [True, False, True, True, False]\n",
    "}\n",
    "df_carros = pd.DataFrame(dados)"
   ]
  },
  {
   "cell_type": "code",
   "execution_count": 26,
   "metadata": {},
   "outputs": [
    {
     "data": {
      "text/html": [
       "<div>\n",
       "<style scoped>\n",
       "    .dataframe tbody tr th:only-of-type {\n",
       "        vertical-align: middle;\n",
       "    }\n",
       "\n",
       "    .dataframe tbody tr th {\n",
       "        vertical-align: top;\n",
       "    }\n",
       "\n",
       "    .dataframe thead th {\n",
       "        text-align: right;\n",
       "    }\n",
       "</style>\n",
       "<table border=\"1\" class=\"dataframe\">\n",
       "  <thead>\n",
       "    <tr style=\"text-align: right;\">\n",
       "      <th></th>\n",
       "      <th>tipo de Carro</th>\n",
       "      <th>Tipos de Direção</th>\n",
       "      <th>Tipos de Pneus</th>\n",
       "      <th>Faixa de Preço</th>\n",
       "      <th>Potência - CV</th>\n",
       "      <th>Velocidade De Cruzeiro</th>\n",
       "    </tr>\n",
       "  </thead>\n",
       "  <tbody>\n",
       "    <tr>\n",
       "      <th>0</th>\n",
       "      <td>Sedan</td>\n",
       "      <td>Hidraulica</td>\n",
       "      <td>Radial</td>\n",
       "      <td>Alto</td>\n",
       "      <td>120</td>\n",
       "      <td>True</td>\n",
       "    </tr>\n",
       "    <tr>\n",
       "      <th>1</th>\n",
       "      <td>SUV</td>\n",
       "      <td>Elétrica</td>\n",
       "      <td>Diagonal</td>\n",
       "      <td>Médio</td>\n",
       "      <td>130</td>\n",
       "      <td>False</td>\n",
       "    </tr>\n",
       "    <tr>\n",
       "      <th>2</th>\n",
       "      <td>Hatchback</td>\n",
       "      <td>Mecânica</td>\n",
       "      <td>Radial</td>\n",
       "      <td>Baixo</td>\n",
       "      <td>100</td>\n",
       "      <td>True</td>\n",
       "    </tr>\n",
       "    <tr>\n",
       "      <th>3</th>\n",
       "      <td>Caminhonete</td>\n",
       "      <td>Eletrica</td>\n",
       "      <td>Diagonal</td>\n",
       "      <td>Alto</td>\n",
       "      <td>180</td>\n",
       "      <td>True</td>\n",
       "    </tr>\n",
       "    <tr>\n",
       "      <th>4</th>\n",
       "      <td>Coupé</td>\n",
       "      <td>Hidraulica</td>\n",
       "      <td>Radial</td>\n",
       "      <td>Médio</td>\n",
       "      <td>200</td>\n",
       "      <td>False</td>\n",
       "    </tr>\n",
       "  </tbody>\n",
       "</table>\n",
       "</div>"
      ],
      "text/plain": [
       "  tipo de Carro Tipos de Direção Tipos de Pneus Faixa de Preço  Potência - CV  \\\n",
       "0         Sedan       Hidraulica         Radial           Alto            120   \n",
       "1           SUV         Elétrica       Diagonal          Médio            130   \n",
       "2     Hatchback         Mecânica         Radial          Baixo            100   \n",
       "3   Caminhonete         Eletrica       Diagonal           Alto            180   \n",
       "4         Coupé       Hidraulica         Radial          Médio            200   \n",
       "\n",
       "   Velocidade De Cruzeiro  \n",
       "0                    True  \n",
       "1                   False  \n",
       "2                    True  \n",
       "3                    True  \n",
       "4                   False  "
      ]
     },
     "execution_count": 26,
     "metadata": {},
     "output_type": "execute_result"
    }
   ],
   "source": [
    "df_carros"
   ]
  },
  {
   "cell_type": "code",
   "execution_count": 27,
   "metadata": {},
   "outputs": [
    {
     "data": {
      "text/html": [
       "<div>\n",
       "<style scoped>\n",
       "    .dataframe tbody tr th:only-of-type {\n",
       "        vertical-align: middle;\n",
       "    }\n",
       "\n",
       "    .dataframe tbody tr th {\n",
       "        vertical-align: top;\n",
       "    }\n",
       "\n",
       "    .dataframe thead th {\n",
       "        text-align: right;\n",
       "    }\n",
       "</style>\n",
       "<table border=\"1\" class=\"dataframe\">\n",
       "  <thead>\n",
       "    <tr style=\"text-align: right;\">\n",
       "      <th></th>\n",
       "      <th>tipo de Carro</th>\n",
       "      <th>Tipos de Direção</th>\n",
       "      <th>Tipos de Pneus</th>\n",
       "      <th>Faixa de Preço</th>\n",
       "      <th>Potência - CV</th>\n",
       "      <th>Velocidade De Cruzeiro</th>\n",
       "    </tr>\n",
       "  </thead>\n",
       "  <tbody>\n",
       "    <tr>\n",
       "      <th>0</th>\n",
       "      <td>Sedan</td>\n",
       "      <td>Hidraulica</td>\n",
       "      <td>Radial</td>\n",
       "      <td>Alto</td>\n",
       "      <td>120</td>\n",
       "      <td>True</td>\n",
       "    </tr>\n",
       "    <tr>\n",
       "      <th>1</th>\n",
       "      <td>SUV</td>\n",
       "      <td>Elétrica</td>\n",
       "      <td>Diagonal</td>\n",
       "      <td>Médio</td>\n",
       "      <td>130</td>\n",
       "      <td>False</td>\n",
       "    </tr>\n",
       "    <tr>\n",
       "      <th>2</th>\n",
       "      <td>Hatchback</td>\n",
       "      <td>Mecânica</td>\n",
       "      <td>Radial</td>\n",
       "      <td>Baixo</td>\n",
       "      <td>100</td>\n",
       "      <td>True</td>\n",
       "    </tr>\n",
       "  </tbody>\n",
       "</table>\n",
       "</div>"
      ],
      "text/plain": [
       "  tipo de Carro Tipos de Direção Tipos de Pneus Faixa de Preço  Potência - CV  \\\n",
       "0         Sedan       Hidraulica         Radial           Alto            120   \n",
       "1           SUV         Elétrica       Diagonal          Médio            130   \n",
       "2     Hatchback         Mecânica         Radial          Baixo            100   \n",
       "\n",
       "   Velocidade De Cruzeiro  \n",
       "0                    True  \n",
       "1                   False  \n",
       "2                    True  "
      ]
     },
     "execution_count": 27,
     "metadata": {},
     "output_type": "execute_result"
    }
   ],
   "source": [
    "df_carros.head(3)"
   ]
  },
  {
   "cell_type": "code",
   "execution_count": 34,
   "metadata": {},
   "outputs": [
    {
     "data": {
      "text/plain": [
       "<bound method DataFrame.info of   tipo de Carro Tipos de Direção Tipos de Pneus Faixa de Preço  Potência - CV  \\\n",
       "0         Sedan       Hidraulica         Radial           Alto            120   \n",
       "1           SUV         Elétrica       Diagonal          Médio            130   \n",
       "2     Hatchback         Mecânica         Radial          Baixo            100   \n",
       "3   Caminhonete         Eletrica       Diagonal           Alto            180   \n",
       "4         Coupé       Hidraulica         Radial          Médio            200   \n",
       "\n",
       "   Velocidade De Cruzeiro  \n",
       "0                    True  \n",
       "1                   False  \n",
       "2                    True  \n",
       "3                    True  \n",
       "4                   False  >"
      ]
     },
     "execution_count": 34,
     "metadata": {},
     "output_type": "execute_result"
    }
   ],
   "source": [
    "df_carros.info"
   ]
  },
  {
   "cell_type": "code",
   "execution_count": 35,
   "metadata": {},
   "outputs": [
    {
     "data": {
      "text/plain": [
       "0          Sedan\n",
       "1            SUV\n",
       "2      Hatchback\n",
       "3    Caminhonete\n",
       "4          Coupé\n",
       "Name: tipo de Carro, dtype: object"
      ]
     },
     "execution_count": 35,
     "metadata": {},
     "output_type": "execute_result"
    }
   ],
   "source": [
    "df_carros['tipo de Carro']"
   ]
  },
  {
   "cell_type": "code",
   "execution_count": 36,
   "metadata": {},
   "outputs": [
    {
     "data": {
      "text/plain": [
       "0          Sedan\n",
       "1            SUV\n",
       "2      Hatchback\n",
       "3    Caminhonete\n",
       "4          Coupé\n",
       "Name: tipo de Carro, dtype: object"
      ]
     },
     "execution_count": 36,
     "metadata": {},
     "output_type": "execute_result"
    }
   ],
   "source": [
    "a = df_carros['tipo de Carro']\n",
    "a"
   ]
  },
  {
   "cell_type": "code",
   "execution_count": 37,
   "metadata": {},
   "outputs": [
    {
     "data": {
      "text/plain": [
       "130.0"
      ]
     },
     "execution_count": 37,
     "metadata": {},
     "output_type": "execute_result"
    }
   ],
   "source": [
    "df_carros['Potência - CV'].mean()\n",
    "df_carros['Potência - CV'].min()\n",
    "df_carros['Potência - CV'].max()\n",
    "df_carros['Potência - CV'].median()"
   ]
  },
  {
   "cell_type": "code",
   "execution_count": 45,
   "metadata": {},
   "outputs": [
    {
     "name": "stdout",
     "output_type": "stream",
     "text": [
      "O valor minimo é <bound method Series.min of 0    120\n",
      "1    130\n",
      "2    100\n",
      "3    180\n",
      "4    200\n",
      "Name: Potência - CV, dtype: int64>\n",
      "O valor maximo é <bound method Series.max of 0    120\n",
      "1    130\n",
      "2    100\n",
      "3    180\n",
      "4    200\n",
      "Name: Potência - CV, dtype: int64>\n",
      "O valor média é <bound method Series.mean of 0    120\n",
      "1    130\n",
      "2    100\n",
      "3    180\n",
      "4    200\n",
      "Name: Potência - CV, dtype: int64>\n",
      "O valor da mediana é <bound method Series.median of 0    120\n",
      "1    130\n",
      "2    100\n",
      "3    180\n",
      "4    200\n",
      "Name: Potência - CV, dtype: int64>\n"
     ]
    }
   ],
   "source": [
    "print('O valor minimo é', df_carros['Potência - CV'].min)\n",
    "print('O valor maximo é', df_carros ['Potência - CV'].max)\n",
    "print('O valor média é', df_carros['Potência - CV'].mean)\n",
    "print('O valor da mediana é', df_carros['Potência - CV'].median)   "
   ]
  },
  {
   "cell_type": "code",
   "execution_count": 47,
   "metadata": {},
   "outputs": [
    {
     "data": {
      "text/html": [
       "<div>\n",
       "<style scoped>\n",
       "    .dataframe tbody tr th:only-of-type {\n",
       "        vertical-align: middle;\n",
       "    }\n",
       "\n",
       "    .dataframe tbody tr th {\n",
       "        vertical-align: top;\n",
       "    }\n",
       "\n",
       "    .dataframe thead th {\n",
       "        text-align: right;\n",
       "    }\n",
       "</style>\n",
       "<table border=\"1\" class=\"dataframe\">\n",
       "  <thead>\n",
       "    <tr style=\"text-align: right;\">\n",
       "      <th></th>\n",
       "      <th>tipo de Carro</th>\n",
       "      <th>Tipos de Direção</th>\n",
       "      <th>Tipos de Pneus</th>\n",
       "      <th>Faixa de Preço</th>\n",
       "      <th>Potência - CV</th>\n",
       "      <th>Velocidade De Cruzeiro</th>\n",
       "    </tr>\n",
       "  </thead>\n",
       "  <tbody>\n",
       "    <tr>\n",
       "      <th>0</th>\n",
       "      <td>Sedan</td>\n",
       "      <td>Hidraulica</td>\n",
       "      <td>Radial</td>\n",
       "      <td>Alto</td>\n",
       "      <td>120</td>\n",
       "      <td>True</td>\n",
       "    </tr>\n",
       "  </tbody>\n",
       "</table>\n",
       "</div>"
      ],
      "text/plain": [
       "  tipo de Carro Tipos de Direção Tipos de Pneus Faixa de Preço  Potência - CV  \\\n",
       "0         Sedan       Hidraulica         Radial           Alto            120   \n",
       "\n",
       "   Velocidade De Cruzeiro  \n",
       "0                    True  "
      ]
     },
     "execution_count": 47,
     "metadata": {},
     "output_type": "execute_result"
    }
   ],
   "source": [
    "#Filtragem por valor\n",
    "def filtrar_por_valor(df_carros, coluna, valor):\n",
    "    return df_carros[df_carros[coluna] == valor]\n",
    "\n",
    "filtrar_por_valor(df_carros, 'tipo de Carro','Sedan')"
   ]
  },
  {
   "cell_type": "code",
   "execution_count": 49,
   "metadata": {},
   "outputs": [],
   "source": [
    "import pandas as loc"
   ]
  },
  {
   "cell_type": "code",
   "execution_count": 54,
   "metadata": {},
   "outputs": [
    {
     "ename": "KeyError",
     "evalue": "'carros'",
     "output_type": "error",
     "traceback": [
      "\u001b[1;31m---------------------------------------------------------------------------\u001b[0m",
      "\u001b[1;31mKeyError\u001b[0m                                  Traceback (most recent call last)",
      "File \u001b[1;32mc:\\Python311\\Lib\\site-packages\\pandas\\core\\indexes\\base.py:3802\u001b[0m, in \u001b[0;36mIndex.get_loc\u001b[1;34m(self, key)\u001b[0m\n\u001b[0;32m   3801\u001b[0m \u001b[39mtry\u001b[39;00m:\n\u001b[1;32m-> 3802\u001b[0m     \u001b[39mreturn\u001b[39;00m \u001b[39mself\u001b[39;49m\u001b[39m.\u001b[39;49m_engine\u001b[39m.\u001b[39;49mget_loc(casted_key)\n\u001b[0;32m   3803\u001b[0m \u001b[39mexcept\u001b[39;00m \u001b[39mKeyError\u001b[39;00m \u001b[39mas\u001b[39;00m err:\n",
      "File \u001b[1;32mindex.pyx:153\u001b[0m, in \u001b[0;36mpandas._libs.index.IndexEngine.get_loc\u001b[1;34m()\u001b[0m\n",
      "File \u001b[1;32mindex.pyx:182\u001b[0m, in \u001b[0;36mpandas._libs.index.IndexEngine.get_loc\u001b[1;34m()\u001b[0m\n",
      "File \u001b[1;32mpandas\\\\_libs\\\\hashtable_class_helper.pxi:7081\u001b[0m, in \u001b[0;36mpandas._libs.hashtable.PyObjectHashTable.get_item\u001b[1;34m()\u001b[0m\n",
      "File \u001b[1;32mpandas\\\\_libs\\\\hashtable_class_helper.pxi:7089\u001b[0m, in \u001b[0;36mpandas._libs.hashtable.PyObjectHashTable.get_item\u001b[1;34m()\u001b[0m\n",
      "\u001b[1;31mKeyError\u001b[0m: 'carros'",
      "\nThe above exception was the direct cause of the following exception:\n",
      "\u001b[1;31mKeyError\u001b[0m                                  Traceback (most recent call last)",
      "Cell \u001b[1;32mIn[54], line 4\u001b[0m\n\u001b[0;32m      1\u001b[0m carro_desejado \u001b[39m=\u001b[39m [\u001b[39m'\u001b[39m\u001b[39mBMW\u001b[39m\u001b[39m'\u001b[39m, \u001b[39m'\u001b[39m\u001b[39mMercedes\u001b[39m\u001b[39m'\u001b[39m]\n\u001b[0;32m      3\u001b[0m \u001b[39mfor\u001b[39;00m carros \u001b[39min\u001b[39;00m carro_desejado:\n\u001b[1;32m----> 4\u001b[0m     dados \u001b[39m=\u001b[39m df_carros\u001b[39m.\u001b[39mloc[df_carros[\u001b[39m'\u001b[39;49m\u001b[39mcarros\u001b[39;49m\u001b[39m'\u001b[39;49m] \u001b[39m==\u001b[39m carros]\n\u001b[0;32m      5\u001b[0m     \u001b[39mprint\u001b[39m(\u001b[39mf\u001b[39m\u001b[39m\"\u001b[39m\u001b[39mDados para \u001b[39m\u001b[39m{\u001b[39;00mcarros\u001b[39m}\u001b[39;00m\u001b[39m:\u001b[39m\u001b[39m\\n\u001b[39;00m\u001b[39m{\u001b[39;00mdados\u001b[39m}\u001b[39;00m\u001b[39m\\n\u001b[39;00m\u001b[39m\"\u001b[39m)\n",
      "File \u001b[1;32mc:\\Python311\\Lib\\site-packages\\pandas\\core\\frame.py:4090\u001b[0m, in \u001b[0;36mDataFrame.__getitem__\u001b[1;34m(self, key)\u001b[0m\n\u001b[0;32m   4088\u001b[0m \u001b[39mif\u001b[39;00m \u001b[39mself\u001b[39m\u001b[39m.\u001b[39mcolumns\u001b[39m.\u001b[39mnlevels \u001b[39m>\u001b[39m \u001b[39m1\u001b[39m:\n\u001b[0;32m   4089\u001b[0m     \u001b[39mreturn\u001b[39;00m \u001b[39mself\u001b[39m\u001b[39m.\u001b[39m_getitem_multilevel(key)\n\u001b[1;32m-> 4090\u001b[0m indexer \u001b[39m=\u001b[39m \u001b[39mself\u001b[39;49m\u001b[39m.\u001b[39;49mcolumns\u001b[39m.\u001b[39;49mget_loc(key)\n\u001b[0;32m   4091\u001b[0m \u001b[39mif\u001b[39;00m is_integer(indexer):\n\u001b[0;32m   4092\u001b[0m     indexer \u001b[39m=\u001b[39m [indexer]\n",
      "File \u001b[1;32mc:\\Python311\\Lib\\site-packages\\pandas\\core\\indexes\\base.py:3809\u001b[0m, in \u001b[0;36mIndex.get_loc\u001b[1;34m(self, key)\u001b[0m\n\u001b[0;32m   3804\u001b[0m     \u001b[39mif\u001b[39;00m \u001b[39misinstance\u001b[39m(casted_key, \u001b[39mslice\u001b[39m) \u001b[39mor\u001b[39;00m (\n\u001b[0;32m   3805\u001b[0m         \u001b[39misinstance\u001b[39m(casted_key, abc\u001b[39m.\u001b[39mIterable)\n\u001b[0;32m   3806\u001b[0m         \u001b[39mand\u001b[39;00m \u001b[39many\u001b[39m(\u001b[39misinstance\u001b[39m(x, \u001b[39mslice\u001b[39m) \u001b[39mfor\u001b[39;00m x \u001b[39min\u001b[39;00m casted_key)\n\u001b[0;32m   3807\u001b[0m     ):\n\u001b[0;32m   3808\u001b[0m         \u001b[39mraise\u001b[39;00m InvalidIndexError(key)\n\u001b[1;32m-> 3809\u001b[0m     \u001b[39mraise\u001b[39;00m \u001b[39mKeyError\u001b[39;00m(key) \u001b[39mfrom\u001b[39;00m \u001b[39merr\u001b[39;00m\n\u001b[0;32m   3810\u001b[0m \u001b[39mexcept\u001b[39;00m \u001b[39mTypeError\u001b[39;00m:\n\u001b[0;32m   3811\u001b[0m     \u001b[39m# If we have a listlike key, _check_indexing_error will raise\u001b[39;00m\n\u001b[0;32m   3812\u001b[0m     \u001b[39m#  InvalidIndexError. Otherwise we fall through and re-raise\u001b[39;00m\n\u001b[0;32m   3813\u001b[0m     \u001b[39m#  the TypeError.\u001b[39;00m\n\u001b[0;32m   3814\u001b[0m     \u001b[39mself\u001b[39m\u001b[39m.\u001b[39m_check_indexing_error(key)\n",
      "\u001b[1;31mKeyError\u001b[0m: 'carros'"
     ]
    }
   ],
   "source": [
    "carro_desejado = ['BMW', 'Mercedes']\n",
    "\n",
    "for carros in carro_desejado:\n",
    "    dados = df_carros.loc[df_carros['tipo de carro'] == carros]\n",
    "    print(f\"Dados para {carros}:\\n{dados}\\n\")"
   ]
  }
 ],
 "metadata": {
  "kernelspec": {
   "display_name": "Python 3",
   "language": "python",
   "name": "python3"
  },
  "language_info": {
   "codemirror_mode": {
    "name": "ipython",
    "version": 3
   },
   "file_extension": ".py",
   "mimetype": "text/x-python",
   "name": "python",
   "nbconvert_exporter": "python",
   "pygments_lexer": "ipython3",
   "version": "3.11.4"
  },
  "orig_nbformat": 4
 },
 "nbformat": 4,
 "nbformat_minor": 2
}
